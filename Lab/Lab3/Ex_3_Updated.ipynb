{
 "cells": [
  {
   "cell_type": "code",
   "execution_count": 2,
   "id": "9d8eeac7-5b2c-4e62-9717-4e15531ac9c0",
   "metadata": {},
   "outputs": [],
   "source": [
    "import pandas as pd\n",
    "import numpy as np\n",
    "import matplotlib.pyplot as plt\n",
    "import seaborn as sns\n",
    "%matplotlib inline"
   ]
  },
  {
   "cell_type": "code",
   "execution_count": 4,
   "id": "523b8f77-8dd7-4ab4-badc-516f17fd1c7e",
   "metadata": {},
   "outputs": [],
   "source": [
    "df=pd.read_csv(\"Inc_Exp_data.csv\")"
   ]
  },
  {
   "cell_type": "code",
   "execution_count": 6,
   "id": "bce39ec5-0216-46bd-9d6d-bc0978ccfe33",
   "metadata": {},
   "outputs": [
    {
     "data": {
      "text/plain": [
       "(50, 7)"
      ]
     },
     "execution_count": 6,
     "metadata": {},
     "output_type": "execute_result"
    }
   ],
   "source": [
    " df.shape"
   ]
  },
  {
   "cell_type": "code",
   "execution_count": 8,
   "id": "84f2952c-a836-4ede-b33e-0f6aa4995ef1",
   "metadata": {},
   "outputs": [
    {
     "data": {
      "text/html": [
       "<div>\n",
       "<style scoped>\n",
       "    .dataframe tbody tr th:only-of-type {\n",
       "        vertical-align: middle;\n",
       "    }\n",
       "\n",
       "    .dataframe tbody tr th {\n",
       "        vertical-align: top;\n",
       "    }\n",
       "\n",
       "    .dataframe thead th {\n",
       "        text-align: right;\n",
       "    }\n",
       "</style>\n",
       "<table border=\"1\" class=\"dataframe\">\n",
       "  <thead>\n",
       "    <tr style=\"text-align: right;\">\n",
       "      <th></th>\n",
       "      <th>Mthly_HH_Income</th>\n",
       "      <th>Mthly_HH_Expense</th>\n",
       "      <th>No_of_Fly_Members</th>\n",
       "      <th>Emi_or_Rent_Amt</th>\n",
       "      <th>Annual_HH_Income</th>\n",
       "      <th>Highest_Qualified_Member</th>\n",
       "      <th>No_of_Earning_Members</th>\n",
       "    </tr>\n",
       "  </thead>\n",
       "  <tbody>\n",
       "    <tr>\n",
       "      <th>0</th>\n",
       "      <td>5000</td>\n",
       "      <td>8000</td>\n",
       "      <td>3</td>\n",
       "      <td>2000</td>\n",
       "      <td>64200</td>\n",
       "      <td>Under-Graduate</td>\n",
       "      <td>1</td>\n",
       "    </tr>\n",
       "    <tr>\n",
       "      <th>1</th>\n",
       "      <td>6000</td>\n",
       "      <td>7000</td>\n",
       "      <td>2</td>\n",
       "      <td>3000</td>\n",
       "      <td>79920</td>\n",
       "      <td>Illiterate</td>\n",
       "      <td>1</td>\n",
       "    </tr>\n",
       "    <tr>\n",
       "      <th>2</th>\n",
       "      <td>10000</td>\n",
       "      <td>4500</td>\n",
       "      <td>2</td>\n",
       "      <td>0</td>\n",
       "      <td>112800</td>\n",
       "      <td>Under-Graduate</td>\n",
       "      <td>1</td>\n",
       "    </tr>\n",
       "    <tr>\n",
       "      <th>3</th>\n",
       "      <td>10000</td>\n",
       "      <td>2000</td>\n",
       "      <td>1</td>\n",
       "      <td>0</td>\n",
       "      <td>97200</td>\n",
       "      <td>Illiterate</td>\n",
       "      <td>1</td>\n",
       "    </tr>\n",
       "    <tr>\n",
       "      <th>4</th>\n",
       "      <td>12500</td>\n",
       "      <td>12000</td>\n",
       "      <td>2</td>\n",
       "      <td>3000</td>\n",
       "      <td>147000</td>\n",
       "      <td>Graduate</td>\n",
       "      <td>1</td>\n",
       "    </tr>\n",
       "  </tbody>\n",
       "</table>\n",
       "</div>"
      ],
      "text/plain": [
       "   Mthly_HH_Income  Mthly_HH_Expense  No_of_Fly_Members  Emi_or_Rent_Amt  \\\n",
       "0             5000              8000                  3             2000   \n",
       "1             6000              7000                  2             3000   \n",
       "2            10000              4500                  2                0   \n",
       "3            10000              2000                  1                0   \n",
       "4            12500             12000                  2             3000   \n",
       "\n",
       "   Annual_HH_Income Highest_Qualified_Member  No_of_Earning_Members  \n",
       "0             64200           Under-Graduate                      1  \n",
       "1             79920               Illiterate                      1  \n",
       "2            112800           Under-Graduate                      1  \n",
       "3             97200               Illiterate                      1  \n",
       "4            147000                 Graduate                      1  "
      ]
     },
     "execution_count": 8,
     "metadata": {},
     "output_type": "execute_result"
    }
   ],
   "source": [
    "df.head()"
   ]
  },
  {
   "cell_type": "code",
   "execution_count": 10,
   "id": "fef7f569-bfa7-4dae-ae5a-5dbac7e7529f",
   "metadata": {},
   "outputs": [
    {
     "name": "stdout",
     "output_type": "stream",
     "text": [
      "<class 'pandas.core.frame.DataFrame'>\n",
      "RangeIndex: 50 entries, 0 to 49\n",
      "Data columns (total 7 columns):\n",
      " #   Column                    Non-Null Count  Dtype \n",
      "---  ------                    --------------  ----- \n",
      " 0   Mthly_HH_Income           50 non-null     int64 \n",
      " 1   Mthly_HH_Expense          50 non-null     int64 \n",
      " 2   No_of_Fly_Members         50 non-null     int64 \n",
      " 3   Emi_or_Rent_Amt           50 non-null     int64 \n",
      " 4   Annual_HH_Income          50 non-null     int64 \n",
      " 5   Highest_Qualified_Member  50 non-null     object\n",
      " 6   No_of_Earning_Members     50 non-null     int64 \n",
      "dtypes: int64(6), object(1)\n",
      "memory usage: 2.9+ KB\n"
     ]
    }
   ],
   "source": [
    "df.info()"
   ]
  },
  {
   "cell_type": "code",
   "execution_count": 12,
   "id": "feb1c388-fcf3-4f5e-83b8-2d48a26dff92",
   "metadata": {},
   "outputs": [
    {
     "data": {
      "text/plain": [
       "Mthly_HH_Income             0\n",
       "Mthly_HH_Expense            0\n",
       "No_of_Fly_Members           0\n",
       "Emi_or_Rent_Amt             0\n",
       "Annual_HH_Income            0\n",
       "Highest_Qualified_Member    0\n",
       "No_of_Earning_Members       0\n",
       "dtype: int64"
      ]
     },
     "execution_count": 12,
     "metadata": {},
     "output_type": "execute_result"
    }
   ],
   "source": [
    "df.isnull().sum()"
   ]
  },
  {
   "cell_type": "code",
   "execution_count": 14,
   "id": "1cc4dacf-d851-43a4-8735-e6ff71afbfb7",
   "metadata": {},
   "outputs": [
    {
     "data": {
      "text/html": [
       "<div>\n",
       "<style scoped>\n",
       "    .dataframe tbody tr th:only-of-type {\n",
       "        vertical-align: middle;\n",
       "    }\n",
       "\n",
       "    .dataframe tbody tr th {\n",
       "        vertical-align: top;\n",
       "    }\n",
       "\n",
       "    .dataframe thead th {\n",
       "        text-align: right;\n",
       "    }\n",
       "</style>\n",
       "<table border=\"1\" class=\"dataframe\">\n",
       "  <thead>\n",
       "    <tr style=\"text-align: right;\">\n",
       "      <th></th>\n",
       "      <th>Mthly_HH_Income</th>\n",
       "      <th>Mthly_HH_Expense</th>\n",
       "      <th>No_of_Fly_Members</th>\n",
       "      <th>Emi_or_Rent_Amt</th>\n",
       "      <th>Annual_HH_Income</th>\n",
       "      <th>No_of_Earning_Members</th>\n",
       "    </tr>\n",
       "  </thead>\n",
       "  <tbody>\n",
       "    <tr>\n",
       "      <th>count</th>\n",
       "      <td>50.000000</td>\n",
       "      <td>50.000000</td>\n",
       "      <td>50.000000</td>\n",
       "      <td>50.000000</td>\n",
       "      <td>5.000000e+01</td>\n",
       "      <td>50.000000</td>\n",
       "    </tr>\n",
       "    <tr>\n",
       "      <th>mean</th>\n",
       "      <td>41558.000000</td>\n",
       "      <td>18818.000000</td>\n",
       "      <td>4.060000</td>\n",
       "      <td>3060.000000</td>\n",
       "      <td>4.900190e+05</td>\n",
       "      <td>1.460000</td>\n",
       "    </tr>\n",
       "    <tr>\n",
       "      <th>std</th>\n",
       "      <td>26097.908979</td>\n",
       "      <td>12090.216824</td>\n",
       "      <td>1.517382</td>\n",
       "      <td>6241.434948</td>\n",
       "      <td>3.201358e+05</td>\n",
       "      <td>0.734291</td>\n",
       "    </tr>\n",
       "    <tr>\n",
       "      <th>min</th>\n",
       "      <td>5000.000000</td>\n",
       "      <td>2000.000000</td>\n",
       "      <td>1.000000</td>\n",
       "      <td>0.000000</td>\n",
       "      <td>6.420000e+04</td>\n",
       "      <td>1.000000</td>\n",
       "    </tr>\n",
       "    <tr>\n",
       "      <th>25%</th>\n",
       "      <td>23550.000000</td>\n",
       "      <td>10000.000000</td>\n",
       "      <td>3.000000</td>\n",
       "      <td>0.000000</td>\n",
       "      <td>2.587500e+05</td>\n",
       "      <td>1.000000</td>\n",
       "    </tr>\n",
       "    <tr>\n",
       "      <th>50%</th>\n",
       "      <td>35000.000000</td>\n",
       "      <td>15500.000000</td>\n",
       "      <td>4.000000</td>\n",
       "      <td>0.000000</td>\n",
       "      <td>4.474200e+05</td>\n",
       "      <td>1.000000</td>\n",
       "    </tr>\n",
       "    <tr>\n",
       "      <th>75%</th>\n",
       "      <td>50375.000000</td>\n",
       "      <td>25000.000000</td>\n",
       "      <td>5.000000</td>\n",
       "      <td>3500.000000</td>\n",
       "      <td>5.947200e+05</td>\n",
       "      <td>2.000000</td>\n",
       "    </tr>\n",
       "    <tr>\n",
       "      <th>max</th>\n",
       "      <td>100000.000000</td>\n",
       "      <td>50000.000000</td>\n",
       "      <td>7.000000</td>\n",
       "      <td>35000.000000</td>\n",
       "      <td>1.404000e+06</td>\n",
       "      <td>4.000000</td>\n",
       "    </tr>\n",
       "  </tbody>\n",
       "</table>\n",
       "</div>"
      ],
      "text/plain": [
       "       Mthly_HH_Income  Mthly_HH_Expense  No_of_Fly_Members  Emi_or_Rent_Amt  \\\n",
       "count        50.000000         50.000000          50.000000        50.000000   \n",
       "mean      41558.000000      18818.000000           4.060000      3060.000000   \n",
       "std       26097.908979      12090.216824           1.517382      6241.434948   \n",
       "min        5000.000000       2000.000000           1.000000         0.000000   \n",
       "25%       23550.000000      10000.000000           3.000000         0.000000   \n",
       "50%       35000.000000      15500.000000           4.000000         0.000000   \n",
       "75%       50375.000000      25000.000000           5.000000      3500.000000   \n",
       "max      100000.000000      50000.000000           7.000000     35000.000000   \n",
       "\n",
       "       Annual_HH_Income  No_of_Earning_Members  \n",
       "count      5.000000e+01              50.000000  \n",
       "mean       4.900190e+05               1.460000  \n",
       "std        3.201358e+05               0.734291  \n",
       "min        6.420000e+04               1.000000  \n",
       "25%        2.587500e+05               1.000000  \n",
       "50%        4.474200e+05               1.000000  \n",
       "75%        5.947200e+05               2.000000  \n",
       "max        1.404000e+06               4.000000  "
      ]
     },
     "execution_count": 14,
     "metadata": {},
     "output_type": "execute_result"
    }
   ],
   "source": [
    "df.describe()"
   ]
  },
  {
   "cell_type": "code",
   "execution_count": 16,
   "id": "85d5ce29-fec2-4ddd-8fa4-ef8bce60a29b",
   "metadata": {},
   "outputs": [
    {
     "data": {
      "text/html": [
       "<div>\n",
       "<style scoped>\n",
       "    .dataframe tbody tr th:only-of-type {\n",
       "        vertical-align: middle;\n",
       "    }\n",
       "\n",
       "    .dataframe tbody tr th {\n",
       "        vertical-align: top;\n",
       "    }\n",
       "\n",
       "    .dataframe thead th {\n",
       "        text-align: right;\n",
       "    }\n",
       "</style>\n",
       "<table border=\"1\" class=\"dataframe\">\n",
       "  <thead>\n",
       "    <tr style=\"text-align: right;\">\n",
       "      <th></th>\n",
       "      <th>Highest_Qualified_Member</th>\n",
       "    </tr>\n",
       "  </thead>\n",
       "  <tbody>\n",
       "    <tr>\n",
       "      <th>count</th>\n",
       "      <td>50</td>\n",
       "    </tr>\n",
       "    <tr>\n",
       "      <th>unique</th>\n",
       "      <td>5</td>\n",
       "    </tr>\n",
       "    <tr>\n",
       "      <th>top</th>\n",
       "      <td>Graduate</td>\n",
       "    </tr>\n",
       "    <tr>\n",
       "      <th>freq</th>\n",
       "      <td>19</td>\n",
       "    </tr>\n",
       "  </tbody>\n",
       "</table>\n",
       "</div>"
      ],
      "text/plain": [
       "       Highest_Qualified_Member\n",
       "count                        50\n",
       "unique                        5\n",
       "top                    Graduate\n",
       "freq                         19"
      ]
     },
     "execution_count": 16,
     "metadata": {},
     "output_type": "execute_result"
    }
   ],
   "source": [
    "df.describe(include=\"object\")"
   ]
  },
  {
   "cell_type": "code",
   "execution_count": 18,
   "id": "63f835b6-d3ea-4929-8c39-652d59433bb0",
   "metadata": {},
   "outputs": [
    {
     "data": {
      "text/html": [
       "<div>\n",
       "<style scoped>\n",
       "    .dataframe tbody tr th:only-of-type {\n",
       "        vertical-align: middle;\n",
       "    }\n",
       "\n",
       "    .dataframe tbody tr th {\n",
       "        vertical-align: top;\n",
       "    }\n",
       "\n",
       "    .dataframe thead th {\n",
       "        text-align: right;\n",
       "    }\n",
       "</style>\n",
       "<table border=\"1\" class=\"dataframe\">\n",
       "  <thead>\n",
       "    <tr style=\"text-align: right;\">\n",
       "      <th></th>\n",
       "      <th>Mthly_HH_Income</th>\n",
       "      <th>Mthly_HH_Expense</th>\n",
       "      <th>No_of_Fly_Members</th>\n",
       "      <th>Emi_or_Rent_Amt</th>\n",
       "      <th>Annual_HH_Income</th>\n",
       "      <th>Highest_Qualified_Member</th>\n",
       "      <th>No_of_Earning_Members</th>\n",
       "    </tr>\n",
       "  </thead>\n",
       "  <tbody>\n",
       "    <tr>\n",
       "      <th>count</th>\n",
       "      <td>50.000000</td>\n",
       "      <td>50.000000</td>\n",
       "      <td>50.000000</td>\n",
       "      <td>50.000000</td>\n",
       "      <td>5.000000e+01</td>\n",
       "      <td>50</td>\n",
       "      <td>50.000000</td>\n",
       "    </tr>\n",
       "    <tr>\n",
       "      <th>unique</th>\n",
       "      <td>NaN</td>\n",
       "      <td>NaN</td>\n",
       "      <td>NaN</td>\n",
       "      <td>NaN</td>\n",
       "      <td>NaN</td>\n",
       "      <td>5</td>\n",
       "      <td>NaN</td>\n",
       "    </tr>\n",
       "    <tr>\n",
       "      <th>top</th>\n",
       "      <td>NaN</td>\n",
       "      <td>NaN</td>\n",
       "      <td>NaN</td>\n",
       "      <td>NaN</td>\n",
       "      <td>NaN</td>\n",
       "      <td>Graduate</td>\n",
       "      <td>NaN</td>\n",
       "    </tr>\n",
       "    <tr>\n",
       "      <th>freq</th>\n",
       "      <td>NaN</td>\n",
       "      <td>NaN</td>\n",
       "      <td>NaN</td>\n",
       "      <td>NaN</td>\n",
       "      <td>NaN</td>\n",
       "      <td>19</td>\n",
       "      <td>NaN</td>\n",
       "    </tr>\n",
       "    <tr>\n",
       "      <th>mean</th>\n",
       "      <td>41558.000000</td>\n",
       "      <td>18818.000000</td>\n",
       "      <td>4.060000</td>\n",
       "      <td>3060.000000</td>\n",
       "      <td>4.900190e+05</td>\n",
       "      <td>NaN</td>\n",
       "      <td>1.460000</td>\n",
       "    </tr>\n",
       "    <tr>\n",
       "      <th>std</th>\n",
       "      <td>26097.908979</td>\n",
       "      <td>12090.216824</td>\n",
       "      <td>1.517382</td>\n",
       "      <td>6241.434948</td>\n",
       "      <td>3.201358e+05</td>\n",
       "      <td>NaN</td>\n",
       "      <td>0.734291</td>\n",
       "    </tr>\n",
       "    <tr>\n",
       "      <th>min</th>\n",
       "      <td>5000.000000</td>\n",
       "      <td>2000.000000</td>\n",
       "      <td>1.000000</td>\n",
       "      <td>0.000000</td>\n",
       "      <td>6.420000e+04</td>\n",
       "      <td>NaN</td>\n",
       "      <td>1.000000</td>\n",
       "    </tr>\n",
       "    <tr>\n",
       "      <th>25%</th>\n",
       "      <td>23550.000000</td>\n",
       "      <td>10000.000000</td>\n",
       "      <td>3.000000</td>\n",
       "      <td>0.000000</td>\n",
       "      <td>2.587500e+05</td>\n",
       "      <td>NaN</td>\n",
       "      <td>1.000000</td>\n",
       "    </tr>\n",
       "    <tr>\n",
       "      <th>50%</th>\n",
       "      <td>35000.000000</td>\n",
       "      <td>15500.000000</td>\n",
       "      <td>4.000000</td>\n",
       "      <td>0.000000</td>\n",
       "      <td>4.474200e+05</td>\n",
       "      <td>NaN</td>\n",
       "      <td>1.000000</td>\n",
       "    </tr>\n",
       "    <tr>\n",
       "      <th>75%</th>\n",
       "      <td>50375.000000</td>\n",
       "      <td>25000.000000</td>\n",
       "      <td>5.000000</td>\n",
       "      <td>3500.000000</td>\n",
       "      <td>5.947200e+05</td>\n",
       "      <td>NaN</td>\n",
       "      <td>2.000000</td>\n",
       "    </tr>\n",
       "    <tr>\n",
       "      <th>max</th>\n",
       "      <td>100000.000000</td>\n",
       "      <td>50000.000000</td>\n",
       "      <td>7.000000</td>\n",
       "      <td>35000.000000</td>\n",
       "      <td>1.404000e+06</td>\n",
       "      <td>NaN</td>\n",
       "      <td>4.000000</td>\n",
       "    </tr>\n",
       "  </tbody>\n",
       "</table>\n",
       "</div>"
      ],
      "text/plain": [
       "        Mthly_HH_Income  Mthly_HH_Expense  No_of_Fly_Members  Emi_or_Rent_Amt  \\\n",
       "count         50.000000         50.000000          50.000000        50.000000   \n",
       "unique              NaN               NaN                NaN              NaN   \n",
       "top                 NaN               NaN                NaN              NaN   \n",
       "freq                NaN               NaN                NaN              NaN   \n",
       "mean       41558.000000      18818.000000           4.060000      3060.000000   \n",
       "std        26097.908979      12090.216824           1.517382      6241.434948   \n",
       "min         5000.000000       2000.000000           1.000000         0.000000   \n",
       "25%        23550.000000      10000.000000           3.000000         0.000000   \n",
       "50%        35000.000000      15500.000000           4.000000         0.000000   \n",
       "75%        50375.000000      25000.000000           5.000000      3500.000000   \n",
       "max       100000.000000      50000.000000           7.000000     35000.000000   \n",
       "\n",
       "        Annual_HH_Income Highest_Qualified_Member  No_of_Earning_Members  \n",
       "count       5.000000e+01                       50              50.000000  \n",
       "unique               NaN                        5                    NaN  \n",
       "top                  NaN                 Graduate                    NaN  \n",
       "freq                 NaN                       19                    NaN  \n",
       "mean        4.900190e+05                      NaN               1.460000  \n",
       "std         3.201358e+05                      NaN               0.734291  \n",
       "min         6.420000e+04                      NaN               1.000000  \n",
       "25%         2.587500e+05                      NaN               1.000000  \n",
       "50%         4.474200e+05                      NaN               1.000000  \n",
       "75%         5.947200e+05                      NaN               2.000000  \n",
       "max         1.404000e+06                      NaN               4.000000  "
      ]
     },
     "execution_count": 18,
     "metadata": {},
     "output_type": "execute_result"
    }
   ],
   "source": [
    "df.describe(include=\"all\")"
   ]
  },
  {
   "cell_type": "code",
   "execution_count": 20,
   "id": "d9a7d402-e99f-47f0-840d-106de2f474d1",
   "metadata": {},
   "outputs": [
    {
     "name": "stdout",
     "output_type": "stream",
     "text": [
      "41558.0\n"
     ]
    }
   ],
   "source": [
    "Mean=df[(\"Mthly_HH_Income\")].mean()\n",
    "print(Mean)\n",
    "\n"
   ]
  },
  {
   "cell_type": "code",
   "execution_count": 22,
   "id": "b5902fb0-d25a-4aa8-b39c-cc39c1314b0d",
   "metadata": {},
   "outputs": [
    {
     "name": "stdout",
     "output_type": "stream",
     "text": [
      "35000.0\n"
     ]
    }
   ],
   "source": [
    "Median=df[(\"Mthly_HH_Income\")].median()\n",
    "print(Median)\n",
    "\n"
   ]
  },
  {
   "cell_type": "code",
   "execution_count": 24,
   "id": "478b19ee-c97d-40c6-9c5e-e7e77713afd6",
   "metadata": {},
   "outputs": [
    {
     "name": "stdout",
     "output_type": "stream",
     "text": [
      "0    45000\n",
      "Name: Mthly_HH_Income, dtype: int64\n"
     ]
    }
   ],
   "source": [
    "Mode=df[(\"Mthly_HH_Income\")].mode()\n",
    "print(Mode)\n",
    "\n"
   ]
  },
  {
   "cell_type": "code",
   "execution_count": 26,
   "id": "02a685fe-0224-4e3b-93f6-111e408259ed",
   "metadata": {},
   "outputs": [
    {
     "data": {
      "image/png": "[encoded data removed]",
      "text/plain": [
       "<Figure size 500x500 with 1 Axes>"
      ]
     },
     "metadata": {},
     "output_type": "display_data"
    }
   ],
   "source": [
    "data=df[(\"Mthly_HH_Income\")]\n",
    "\n",
    "sns.displot(data=data)\n",
    "plt.show()"
   ]
  },
  {
   "cell_type": "code",
   "execution_count": 28,
   "id": "ced39f16-c0a8-41bb-93a2-d3e47333a146",
   "metadata": {},
   "outputs": [
    {
     "name": "stdout",
     "output_type": "stream",
     "text": [
      "5000\n"
     ]
    }
   ],
   "source": [
    "min= df[(\"Mthly_HH_Income\")].min()\n",
    "print (min)"
   ]
  },
  {
   "cell_type": "code",
   "execution_count": 30,
   "id": "e334d85e-40bf-457b-94f2-9b514b350cf4",
   "metadata": {},
   "outputs": [
    {
     "name": "stdout",
     "output_type": "stream",
     "text": [
      "100000\n"
     ]
    }
   ],
   "source": [
    "max= df[(\"Mthly_HH_Income\")].max()\n",
    "print (max)"
   ]
  },
  {
   "cell_type": "code",
   "execution_count": 74,
   "id": "6288a391-6149-4769-a9b6-ec8bddc02b11",
   "metadata": {},
   "outputs": [
    {
     "name": "stdout",
     "output_type": "stream",
     "text": [
      "95000\n"
     ]
    }
   ],
   "source": [
    "income_range = df['Mthly_HH_Income'].max() - df['Mthly_HH_Income'].min()\n",
    "print(income_range)"
   ]
  },
  {
   "cell_type": "code",
   "execution_count": 76,
   "id": "4878dfa5-cece-4ce3-a3cf-209b027af0a5",
   "metadata": {},
   "outputs": [
    {
     "name": "stdout",
     "output_type": "stream",
     "text": [
      "681100853.0612245\n"
     ]
    }
   ],
   "source": [
    "Var=df[(\"Mthly_HH_Income\")].var()\n",
    "print (Var)"
   ]
  },
  {
   "cell_type": "code",
   "execution_count": 36,
   "id": "4b378feb-fb2f-4e8c-bcbd-0f8ba97a87e3",
   "metadata": {},
   "outputs": [
    {
     "name": "stdout",
     "output_type": "stream",
     "text": [
      "26097.908978713687\n"
     ]
    }
   ],
   "source": [
    "S=df[(\"Mthly_HH_Income\")].std()\n",
    "print (S)"
   ]
  },
  {
   "cell_type": "code",
   "execution_count": 38,
   "id": "def4f503-2d15-4c7c-9d6d-f2b3c2959451",
   "metadata": {},
   "outputs": [
    {
     "name": "stdout",
     "output_type": "stream",
     "text": [
      "Mean Monthly Household Expense: 18818.0\n"
     ]
    }
   ],
   "source": [
    "mean_expense = df['Mthly_HH_Expense'].mean()\n",
    "print(f\"Mean Monthly Household Expense: {mean_expense}\")\n"
   ]
  },
  {
   "cell_type": "code",
   "execution_count": 40,
   "id": "ccc826f2-1e12-4db1-83e9-d2c4b18ed58d",
   "metadata": {},
   "outputs": [
    {
     "name": "stdout",
     "output_type": "stream",
     "text": [
      "Median Monthly Household Expense: 15500.0\n",
      "Difference (Mean - Median): 3318.0\n"
     ]
    }
   ],
   "source": [
    "median_expense = df['Mthly_HH_Expense'].median()\n",
    "print(f\"Median Monthly Household Expense: {median_expense}\")\n",
    "print(f\"Difference (Mean - Median): {mean_expense - median_expense}\")"
   ]
  },
  {
   "cell_type": "code",
   "execution_count": 78,
   "id": "60b411af-c199-4902-835f-ea4803effca7",
   "metadata": {},
   "outputs": [
    {
     "name": "stdout",
     "output_type": "stream",
     "text": [
      "Mthly_HH_Income                70000\n",
      "Mthly_HH_Expense                9000\n",
      "No_of_Fly_Members                  2\n",
      "Emi_or_Rent_Amt                    0\n",
      "Annual_HH_Income              756000\n",
      "Highest_Qualified_Member    Graduate\n",
      "No_of_Earning_Members              1\n",
      "Income_Expense_Ratio        7.777778\n",
      "Dependency_Ratio                 0.5\n",
      "Disposable_Income              61000\n",
      "Calculated_Annual_Income      840000\n",
      "Income_ZScore               1.089819\n",
      "Name: 42, dtype: object\n"
     ]
    }
   ],
   "source": [
    "df['Income_Expense_Ratio'] = df['Mthly_HH_Income'] / df['Mthly_HH_Expense']\n",
    "highest_ratio_household = df.loc[df['Income_Expense_Ratio'].idxmax()]\n",
    "\n",
    "print(highest_ratio_household)"
   ]
  },
  {
   "cell_type": "code",
   "execution_count": 80,
   "id": "ecf968ad-f82f-4a5e-81b0-20d11d48016b",
   "metadata": {},
   "outputs": [
    {
     "name": "stdout",
     "output_type": "stream",
     "text": [
      "4.06\n"
     ]
    }
   ],
   "source": [
    "avg_family_members = df['No_of_Fly_Members'].mean()\n",
    "print(f\"{avg_family_members:.2f}\")"
   ]
  },
  {
   "cell_type": "code",
   "execution_count": 82,
   "id": "689db3c0-79c3-45fb-bcc5-ac1bd49224b2",
   "metadata": {},
   "outputs": [
    {
     "name": "stdout",
     "output_type": "stream",
     "text": [
      "1.52\n"
     ]
    }
   ],
   "source": [
    "std_dev_family_size = df['No_of_Fly_Members'].std()\n",
    "print(f\"{std_dev_family_size:.2f}\")"
   ]
  },
  {
   "cell_type": "code",
   "execution_count": 84,
   "id": "0763b0e1-0e13-40c0-9522-9ff6c4b41418",
   "metadata": {},
   "outputs": [
    {
     "name": "stdout",
     "output_type": "stream",
     "text": [
      "Mthly_HH_Income                  22000\n",
      "Mthly_HH_Expense                 25000\n",
      "No_of_Fly_Members                    6\n",
      "Emi_or_Rent_Amt                  12000\n",
      "Annual_HH_Income                279840\n",
      "Highest_Qualified_Member    Illiterate\n",
      "No_of_Earning_Members                1\n",
      "Income_Expense_Ratio              0.88\n",
      "Dependency_Ratio              0.833333\n",
      "Disposable_Income               -15000\n",
      "Calculated_Annual_Income        264000\n",
      "Income_ZScore                 0.749409\n",
      "Name: 11, dtype: object\n"
     ]
    }
   ],
   "source": [
    "df['Dependency_Ratio'] = (df['No_of_Fly_Members'] - df['No_of_Earning_Members']) / df['No_of_Fly_Members']\n",
    "highest_dependency_household = df.loc[df['Dependency_Ratio'].idxmax()]\n",
    "\n",
    "print(highest_dependency_household)"
   ]
  },
  {
   "cell_type": "code",
   "execution_count": 86,
   "id": "9ca6c325-ba6e-4fa7-ae73-33c318736a89",
   "metadata": {},
   "outputs": [
    {
     "name": "stdout",
     "output_type": "stream",
     "text": [
      "31.74\n"
     ]
    }
   ],
   "source": [
    "\n",
    "avg_emi_percentage = (df_emi['Emi_or_Rent_Amt'] / df_emi['Mthly_HH_Income']).mean() * 100\n",
    "\n",
    "print(f\"{avg_emi_percentage:.2f}\")"
   ]
  },
  {
   "cell_type": "code",
   "execution_count": 88,
   "id": "08145c52-1bad-4a62-8dc1-aacf1ee88554",
   "metadata": {},
   "outputs": [
    {
     "name": "stdout",
     "output_type": "stream",
     "text": [
      "    Mthly_HH_Income  Mthly_HH_Expense  No_of_Fly_Members  Emi_or_Rent_Amt  \\\n",
      "1              6000              7000                  2             3000   \n",
      "6             15000             16000                  3            35000   \n",
      "7             18000             20000                  5             8000   \n",
      "11            22000             25000                  6            12000   \n",
      "\n",
      "    Annual_HH_Income Highest_Qualified_Member  No_of_Earning_Members  \\\n",
      "1              79920               Illiterate                      1   \n",
      "6             167400            Post-Graduate                      1   \n",
      "7             216000                 Graduate                      1   \n",
      "11            279840               Illiterate                      1   \n",
      "\n",
      "    Income_Expense_Ratio  Dependency_Ratio  Disposable_Income  \\\n",
      "1               0.857143          0.500000              -4000   \n",
      "6               0.937500          0.666667             -36000   \n",
      "7               0.900000          0.800000             -10000   \n",
      "11              0.880000          0.833333             -15000   \n",
      "\n",
      "    Calculated_Annual_Income  Income_ZScore  \n",
      "1                      72000       1.362485  \n",
      "6                     180000       1.017629  \n",
      "7                     216000       0.902678  \n",
      "11                    264000       0.749409  \n"
     ]
    }
   ],
   "source": [
    "high_emi_households = df[df['Emi_or_Rent_Amt'] > 0.4 * df['Mthly_HH_Income']]\n",
    "print(high_emi_households)"
   ]
  },
  {
   "cell_type": "code",
   "execution_count": 62,
   "id": "d8b79f7c-4b5f-44d1-81d8-4b56b604ef2b",
   "metadata": {},
   "outputs": [
    {
     "name": "stdout",
     "output_type": "stream",
     "text": [
      "Household with the lowest disposable income:\n",
      "Mthly_HH_Income                     15000\n",
      "Mthly_HH_Expense                    16000\n",
      "No_of_Fly_Members                       3\n",
      "Emi_or_Rent_Amt                     35000\n",
      "Annual_HH_Income                   167400\n",
      "Highest_Qualified_Member    Post-Graduate\n",
      "No_of_Earning_Members                   1\n",
      "Income_Expense_Ratio               0.9375\n",
      "Dependency_Ratio                 0.666667\n",
      "Disposable_Income                  -36000\n",
      "Name: 6, dtype: object\n"
     ]
    }
   ],
   "source": [
    "df['Disposable_Income'] = df['Mthly_HH_Income'] - df['Mthly_HH_Expense'] - df['Emi_or_Rent_Amt']\n",
    "lowest_disposable_income_household = df.loc[df['Disposable_Income'].idxmin()]\n",
    "\n",
    "print(\"Household with the lowest disposable income:\")\n",
    "print(lowest_disposable_income_household)"
   ]
  },
  {
   "cell_type": "code",
   "execution_count": 64,
   "id": "6fc002dd-5fea-4196-ac96-89a616ccb823",
   "metadata": {},
   "outputs": [
    {
     "name": "stdout",
     "output_type": "stream",
     "text": [
      "Found 48 households with inconsistent annual income.\n",
      "Discrepancies found:\n",
      "    Mthly_HH_Income  Annual_HH_Income  Calculated_Annual_Income\n",
      "0              5000             64200                     60000\n",
      "1              6000             79920                     72000\n",
      "2             10000            112800                    120000\n",
      "3             10000             97200                    120000\n",
      "4             12500            147000                    150000\n",
      "5             14000            196560                    168000\n",
      "6             15000            167400                    180000\n",
      "8             19000            218880                    228000\n",
      "9             20000            220800                    240000\n",
      "10            20000            278400                    240000\n",
      "11            22000            279840                    264000\n",
      "12            23400            292032                    280800\n",
      "13            24000            316800                    288000\n",
      "14            24000            244800                    288000\n",
      "15            25000            246000                    300000\n",
      "16            25000            261000                    300000\n",
      "17            25000            258000                    300000\n",
      "19            30000            385200                    360000\n",
      "20            30500            351360                    366000\n",
      "21            32000            445440                    384000\n",
      "22            34000            330480                    408000\n",
      "23            34000            469200                    408000\n",
      "24            35000            466200                    420000\n",
      "25            35000            449400                    420000\n",
      "26            39000            556920                    468000\n",
      "27            40000            412800                    480000\n",
      "28            42000            488880                    504000\n",
      "29            43000            619200                    516000\n",
      "30            45000            523800                    540000\n",
      "31            45000            507600                    540000\n",
      "32            45000            437400                    540000\n",
      "33            45000            610200                    540000\n",
      "34            46000            596160                    552000\n",
      "35            47000            456840                    564000\n",
      "36            50000            570000                    600000\n",
      "37            50500            581760                    606000\n",
      "38            55000            600600                    660000\n",
      "39            60000            590400                    720000\n",
      "40            60000            590400                    720000\n",
      "41            65000            647400                    780000\n",
      "42            70000            756000                    840000\n",
      "43            80000           1075200                    960000\n",
      "44            85000           1142400                   1020000\n",
      "45            90000            885600                   1080000\n",
      "46            98000           1152480                   1176000\n",
      "47           100000           1404000                   1200000\n",
      "48           100000           1032000                   1200000\n",
      "49           100000           1320000                   1200000\n"
     ]
    }
   ],
   "source": [
    "df['Calculated_Annual_Income'] = df['Mthly_HH_Income'] * 12\n",
    "discrepancies = df[df['Annual_HH_Income'] != df['Calculated_Annual_Income']]\n",
    "\n",
    "print(f\"Found {len(discrepancies)} households with inconsistent annual income.\")\n",
    "if not discrepancies.empty:\n",
    "    print(\"Discrepancies found:\")\n",
    "    print(discrepancies[['Mthly_HH_Income', 'Annual_HH_Income', 'Calculated_Annual_Income']])"
   ]
  },
  {
   "cell_type": "code",
   "execution_count": 66,
   "id": "1ff62891-4299-47eb-95e8-6d9f6dbe4c14",
   "metadata": {},
   "outputs": [
    {
     "name": "stdout",
     "output_type": "stream",
     "text": [
      "Average monthly income by highest qualification:\n",
      "Highest_Qualified_Member\n",
      "Post-Graduate     59166.666667\n",
      "Professional      52550.000000\n",
      "Graduate          40921.052632\n",
      "Under-Graduate    29350.000000\n",
      "Illiterate        25280.000000\n",
      "Name: Mthly_HH_Income, dtype: float64\n"
     ]
    }
   ],
   "source": [
    "avg_income_by_qualification = df.groupby('Highest_Qualified_Member')['Mthly_HH_Income'].mean().sort_values(ascending=False)\n",
    "print(\"Average monthly income by highest qualification:\")\n",
    "print(avg_income_by_qualification)"
   ]
  },
  {
   "cell_type": "code",
   "execution_count": 68,
   "id": "bf878041-f60b-431d-8815-6dd3587275ae",
   "metadata": {},
   "outputs": [
    {
     "name": "stdout",
     "output_type": "stream",
     "text": [
      "Found 0 outliers based on a Z-score threshold of 3.\n"
     ]
    }
   ],
   "source": [
    "df['Income_ZScore'] = np.abs((df['Mthly_HH_Income'] - df['Mthly_HH_Income'].mean()) / df['Mthly_HH_Income'].std())\n",
    "outliers = df[df['Income_ZScore'] > 3]\n",
    "\n",
    "print(f\"Found {len(outliers)} outliers based on a Z-score threshold of 3.\")\n",
    "if not outliers.empty:\n",
    "    print(\"Outliers:\")\n",
    "    print(outliers[['Mthly_HH_Income']])"
   ]
  },
  {
   "cell_type": "code",
   "execution_count": 70,
   "id": "323ec29c-9e89-4dff-a728-452aba05a533",
   "metadata": {},
   "outputs": [
    {
     "name": "stdout",
     "output_type": "stream",
     "text": [
      "The correlation between monthly income and monthly expense is: 0.6492\n"
     ]
    }
   ],
   "source": [
    "income_expense_corr = df['Mthly_HH_Income'].corr(df['Mthly_HH_Expense'])\n",
    "print(f\"The correlation between monthly income and monthly expense is: {income_expense_corr:.4f}\")"
   ]
  },
  {
   "cell_type": "code",
   "execution_count": 72,
   "id": "11f55279-31c1-496d-bf67-d450c5e26c34",
   "metadata": {},
   "outputs": [
    {
     "name": "stdout",
     "output_type": "stream",
     "text": [
      "The correlation between the number of earning members and monthly income is: 0.3479\n"
     ]
    }
   ],
   "source": [
    "earners_income_corr = df['No_of_Earning_Members'].corr(df['Mthly_HH_Income'])\n",
    "print(f\"The correlation between the number of earning members and monthly income is: {earners_income_corr:.4f}\")"
   ]
  },
  {
   "cell_type": "code",
   "execution_count": null,
   "id": "c31cdd02-7a42-4170-b688-717f18cf57c7",
   "metadata": {},
   "outputs": [],
   "source": []
  }
 ],
 "metadata": {
  "kernelspec": {
   "display_name": "Python 3 (ipykernel)",
   "language": "python",
   "name": "python3"
  },
  "language_info": {
   "codemirror_mode": {
    "name": "ipython",
    "version": 3
   },
   "file_extension": ".py",
   "mimetype": "text/x-python",
   "name": "python",
   "nbconvert_exporter": "python",
   "pygments_lexer": "ipython3",
   "version": "3.12.2"
  }
 },
 "nbformat": 4,
 "nbformat_minor": 5
}
